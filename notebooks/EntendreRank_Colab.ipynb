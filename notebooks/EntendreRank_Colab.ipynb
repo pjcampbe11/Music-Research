{
  "cells": [
    {
      "cell_type": "markdown",
      "metadata": {},
      "source": [
        "# Entendre Rank \u2013 Colab Notebook"
      ]
    },
    {
      "cell_type": "code",
      "execution_count": null,
      "metadata": {},
      "outputs": [],
      "source": [
        "!pip -q install spotipy lyricsgenius pandas numpy scikit-learn faiss-cpu tqdm transformers torch umap-learn python-dotenv"
      ]
    },
    {
      "cell_type": "code",
      "execution_count": null,
      "metadata": {},
      "outputs": [],
      "source": [
        "import os\n# Set secrets here or via Colab's UI\nos.environ['SPOTIPY_CLIENT_ID'] = os.getenv('SPOTIPY_CLIENT_ID', 'YOUR_CLIENT_ID')\nos.environ['SPOTIPY_CLIENT_SECRET'] = os.getenv('SPOTIPY_CLIENT_SECRET', 'YOUR_CLIENT_SECRET')\nos.environ['SPOTIPY_REDIRECT_URI'] = os.getenv('SPOTIPY_REDIRECT_URI', 'http://localhost:8888/callback')\nos.environ['GENIUS_ACCESS_TOKEN'] = os.getenv('GENIUS_ACCESS_TOKEN', '')\nPLAYLIST_URL = \"https://open.spotify.com/playlist/7MNBsBwgsqAsRZkdNE4E5Y\"\n"
      ]
    },
    {
      "cell_type": "code",
      "execution_count": null,
      "metadata": {},
      "outputs": [],
      "source": [
        "import pandas as pd, numpy as np\nfrom src.ingest_spotify import get_spotify_client, fetch_playlist_tracks, fetch_audio_features\nfrom src.ingest_genius import fetch_lyrics_frame\nfrom src.embed_lyrics import SBertEmbedder\nfrom src.build_index import build_vectors, build_faiss_index\nfrom src.recommend import recommend\nfrom src.config import SPOTIPY_CLIENT_ID, SPOTIPY_CLIENT_SECRET, SPOTIPY_REDIRECT_URI, GENIUS_ACCESS_TOKEN\n\nsp = get_spotify_client(SPOTIPY_CLIENT_ID, SPOTIPY_CLIENT_SECRET, SPOTIPY_REDIRECT_URI)\ndf_tracks = fetch_playlist_tracks(sp, PLAYLIST_URL)\ndf_feats  = fetch_audio_features(sp, df_tracks['track_id'].tolist())\ndf = df_tracks.merge(df_feats, on='track_id', how='left')\ndf.head()"
      ]
    },
    {
      "cell_type": "code",
      "execution_count": null,
      "metadata": {},
      "outputs": [],
      "source": [
        "# Optional: lyrics + embeddings\nuse_lyrics = True if os.environ.get('GENIUS_ACCESS_TOKEN') else False\nif use_lyrics:\n    df = fetch_lyrics_frame(df, os.environ['GENIUS_ACCESS_TOKEN'])\n    texts = [t if isinstance(t,str) and t else '' for t in df['lyrics'].tolist()]\n    embedder = SBertEmbedder()\n    lyr_emb = embedder.encode(texts)\nelse:\n    lyr_emb = None\n"
      ]
    },
    {
      "cell_type": "code",
      "execution_count": null,
      "metadata": {},
      "outputs": [],
      "source": [
        "# Build vectors + FAISS and test a recommendation\nimport faiss, numpy as np\nvec, scaler = build_vectors(df, lyrics_emb=lyr_emb, alpha=0.6)\nindex = build_faiss_index(vec)\nprint('Index size:', index.ntotal)\n\nseed_id = df.iloc[0]['track_id']\nrecs = recommend(df, vec, index, [seed_id], k=30)\nrecs.head(10)"
      ]
    },
    {
      "cell_type": "code",
      "execution_count": null,
      "metadata": {},
      "outputs": [],
      "source": [
        "# Save artifacts\nimport joblib, os, numpy as np, faiss\nos.makedirs('artifacts', exist_ok=True)\ndf.to_parquet('artifacts/track_meta.parquet', index=False)\nnp.save('artifacts/vectors.npy', vec)\njoblib.dump(scaler, 'artifacts/scaler.pkl')\nfaiss.write_index(index, 'artifacts/faiss.index')\nprint('Saved artifacts to ./artifacts')"
      ]
    }
  ],
  "metadata": {
    "kernelspec": {
      "display_name": "Python 3",
      "language": "python",
      "name": "python3"
    }
  },
  "nbformat": 4,
  "nbformat_minor": 5
}